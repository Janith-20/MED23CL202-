{
  "nbformat": 4,
  "nbformat_minor": 0,
  "metadata": {
    "colab": {
      "provenance": [],
      "authorship_tag": "ABX9TyOQ8IBDXqs69csGbGO6NKzm",
      "include_colab_link": true
    },
    "kernelspec": {
      "name": "python3",
      "display_name": "Python 3"
    },
    "language_info": {
      "name": "python"
    }
  },
  "cells": [
    {
      "cell_type": "markdown",
      "metadata": {
        "id": "view-in-github",
        "colab_type": "text"
      },
      "source": [
        "<a href=\"https://colab.research.google.com/github/Janith-20/MED23CL202-/blob/main/python_med.ipynb\" target=\"_parent\"><img src=\"https://colab.research.google.com/assets/colab-badge.svg\" alt=\"Open In Colab\"/></a>"
      ]
    },
    {
      "cell_type": "code",
      "execution_count": null,
      "metadata": {
        "id": "vXvYLJZ3N-_I"
      },
      "outputs": [],
      "source": [
        "import os\n",
        "os.getcwd()\n",
        "os.chdir('/content/sample_data')"
      ]
    },
    {
      "cell_type": "markdown",
      "source": [
        "#Variable and data type"
      ],
      "metadata": {
        "id": "A7JgTsX1PWgE"
      }
    },
    {
      "cell_type": "code",
      "source": [
        "x=7\n",
        "y=10\n",
        "z=x+y\n",
        "print(z)\n",
        "print(z-x)\n",
        "print (z+y)\n",
        "print (x*3)"
      ],
      "metadata": {
        "colab": {
          "base_uri": "https://localhost:8080/"
        },
        "id": "J8IpnZ1sPobn",
        "outputId": "7f3083f8-9ddb-4956-f854-1422473a0978"
      },
      "execution_count": null,
      "outputs": [
        {
          "output_type": "stream",
          "name": "stdout",
          "text": [
            "17\n",
            "10\n",
            "27\n",
            "21\n"
          ]
        }
      ]
    },
    {
      "cell_type": "markdown",
      "source": [
        "int() #integer () fuction call\n",
        "\n",
        "**the data types supperted by python as**\n",
        "\n",
        "int (integer)\n",
        "\n",
        "float (floating point values)\n",
        "\n",
        "bool (boolean)\n",
        "\n",
        "str (string)"
      ],
      "metadata": {
        "id": "W-_sXwPzSX6z"
      }
    },
    {
      "cell_type": "markdown",
      "source": [
        "#**list**"
      ],
      "metadata": {
        "id": "ix7NR4E6UjdS"
      }
    },
    {
      "cell_type": "code",
      "source": [
        "a='is'\n",
        "b='nice'\n",
        "list1=('my','list',a,b)\n",
        "list2=[[1,2,3,4],[4,5,6,7]]\n",
        "list1[:2]\n"
      ],
      "metadata": {
        "colab": {
          "base_uri": "https://localhost:8080/"
        },
        "id": "CnsXZ6f1Ur1w",
        "outputId": "b04a1c05-4629-4812-9e74-59088f4962c6"
      },
      "execution_count": null,
      "outputs": [
        {
          "output_type": "execute_result",
          "data": {
            "text/plain": [
              "('my', 'list')"
            ]
          },
          "metadata": {},
          "execution_count": 107
        }
      ]
    },
    {
      "cell_type": "code",
      "source": [
        "x=[1,2,3]\n",
        "y=[10,20,30]\n",
        "z=[x,y]\n",
        "print (z)\n",
        "u=x+y\n",
        "print (u)"
      ],
      "metadata": {
        "colab": {
          "base_uri": "https://localhost:8080/"
        },
        "id": "IqjiOg_2X3bX",
        "outputId": "a7c780ae-f69b-4876-9ea1-fa653240a03c"
      },
      "execution_count": null,
      "outputs": [
        {
          "output_type": "stream",
          "name": "stdout",
          "text": [
            "[[1, 2, 3], [10, 20, 30]]\n",
            "[1, 2, 3, 10, 20, 30]\n"
          ]
        }
      ]
    },
    {
      "cell_type": "markdown",
      "source": [
        "# accessing the elements of the list"
      ],
      "metadata": {
        "id": "GsnpeLEtYR6e"
      }
    },
    {
      "cell_type": "code",
      "source": [
        "#select the first element of the list\n",
        "print(x)\n",
        "x[0]"
      ],
      "metadata": {
        "colab": {
          "base_uri": "https://localhost:8080/"
        },
        "id": "GjON7wRCYbNB",
        "outputId": "ce9e8740-9807-4493-f2ac-9a5120782290"
      },
      "execution_count": null,
      "outputs": [
        {
          "output_type": "stream",
          "name": "stdout",
          "text": [
            "[1, 2, 3]\n"
          ]
        },
        {
          "output_type": "execute_result",
          "data": {
            "text/plain": [
              "1"
            ]
          },
          "metadata": {},
          "execution_count": 109
        }
      ]
    },
    {
      "cell_type": "code",
      "source": [
        "#select the last element of the list\n",
        "x[-1]"
      ],
      "metadata": {
        "colab": {
          "base_uri": "https://localhost:8080/"
        },
        "id": "e4oN_Dk3ZBOH",
        "outputId": "83a3a58f-8380-4d9d-e5de-f31651d48253"
      },
      "execution_count": null,
      "outputs": [
        {
          "output_type": "execute_result",
          "data": {
            "text/plain": [
              "3"
            ]
          },
          "metadata": {},
          "execution_count": 110
        }
      ]
    },
    {
      "cell_type": "code",
      "source": [
        "#select 1st inclusive and 3rd exclusive\n",
        "x[1:3]"
      ],
      "metadata": {
        "colab": {
          "base_uri": "https://localhost:8080/"
        },
        "id": "WInhy4bEZJSV",
        "outputId": "b188a129-053d-4991-c40a-015e8c18b570"
      },
      "execution_count": null,
      "outputs": [
        {
          "output_type": "execute_result",
          "data": {
            "text/plain": [
              "[2, 3]"
            ]
          },
          "metadata": {},
          "execution_count": 111
        }
      ]
    },
    {
      "cell_type": "code",
      "source": [
        "#select 2nd to the end of x1 =['a','b','c','d','e']\n",
        "x[2:]"
      ],
      "metadata": {
        "colab": {
          "base_uri": "https://localhost:8080/"
        },
        "id": "rX5pg4H-aB_Z",
        "outputId": "6fffa0f2-5993-4dd5-8019-b37d25141bed"
      },
      "execution_count": null,
      "outputs": [
        {
          "output_type": "execute_result",
          "data": {
            "text/plain": [
              "[3]"
            ]
          },
          "metadata": {},
          "execution_count": 112
        }
      ]
    },
    {
      "cell_type": "code",
      "source": [
        "#list operatorsn : comma,+,*\n",
        "y=[10,20,30]\n",
        "y*3"
      ],
      "metadata": {
        "colab": {
          "base_uri": "https://localhost:8080/"
        },
        "id": "CzBEU6k5bw9-",
        "outputId": "e43f8fcf-6621-4561-a8ed-10346cfd0ea9"
      },
      "execution_count": null,
      "outputs": [
        {
          "output_type": "execute_result",
          "data": {
            "text/plain": [
              "[10, 20, 30, 10, 20, 30, 10, 20, 30]"
            ]
          },
          "metadata": {},
          "execution_count": 113
        }
      ]
    },
    {
      "cell_type": "code",
      "source": [
        "y+y"
      ],
      "metadata": {
        "colab": {
          "base_uri": "https://localhost:8080/"
        },
        "id": "WHmYCEADcAUy",
        "outputId": "6a7da6a7-c784-4035-80e6-46e23bd6a10f"
      },
      "execution_count": null,
      "outputs": [
        {
          "output_type": "execute_result",
          "data": {
            "text/plain": [
              "[10, 20, 30, 10, 20, 30]"
            ]
          },
          "metadata": {},
          "execution_count": 114
        }
      ]
    },
    {
      "cell_type": "code",
      "source": [
        "22/3 #division solution with decimal\n"
      ],
      "metadata": {
        "colab": {
          "base_uri": "https://localhost:8080/"
        },
        "id": "u5i1xAbcbNqS",
        "outputId": "332e24e7-6a40-40ed-baf1-4a1ef4d5fae9"
      },
      "execution_count": null,
      "outputs": [
        {
          "output_type": "execute_result",
          "data": {
            "text/plain": [
              "7.333333333333333"
            ]
          },
          "metadata": {},
          "execution_count": 115
        }
      ]
    },
    {
      "cell_type": "code",
      "source": [
        "22//3 #division solution with no decimal\n"
      ],
      "metadata": {
        "colab": {
          "base_uri": "https://localhost:8080/"
        },
        "id": "lY3dYcfgba7x",
        "outputId": "2a875d6a-c66b-46db-9bec-21bdf757ea35"
      },
      "execution_count": null,
      "outputs": [
        {
          "output_type": "execute_result",
          "data": {
            "text/plain": [
              "7"
            ]
          },
          "metadata": {},
          "execution_count": 116
        }
      ]
    },
    {
      "cell_type": "code",
      "source": [
        "22%3 #modulus\n",
        "\n"
      ],
      "metadata": {
        "colab": {
          "base_uri": "https://localhost:8080/"
        },
        "id": "E21n7of3beNX",
        "outputId": "efe757e5-5adb-44bc-9e6c-cdca80019fe6"
      },
      "execution_count": null,
      "outputs": [
        {
          "output_type": "execute_result",
          "data": {
            "text/plain": [
              "1"
            ]
          },
          "metadata": {},
          "execution_count": 117
        }
      ]
    },
    {
      "cell_type": "markdown",
      "source": [
        "#Assigenment Operators"
      ],
      "metadata": {
        "id": "uE4fiwWvcMIL"
      }
    },
    {
      "cell_type": "code",
      "source": [
        "a=5 #assigening a value to a\n",
        "print (a)\n",
        "x=[10,20,30]\n",
        "x[0]=1 #changing the value of a item in a list\n",
        "print (x)"
      ],
      "metadata": {
        "colab": {
          "base_uri": "https://localhost:8080/"
        },
        "id": "I3xlNIE7cSSv",
        "outputId": "a46707d8-f732-4c13-d118-77976be6a452"
      },
      "execution_count": null,
      "outputs": [
        {
          "output_type": "stream",
          "name": "stdout",
          "text": [
            "5\n",
            "[1, 20, 30]\n"
          ]
        }
      ]
    },
    {
      "cell_type": "markdown",
      "source": [
        "#Relational Operators"
      ],
      "metadata": {
        "id": "VfP9MJL4eRvH"
      }
    },
    {
      "cell_type": "code",
      "source": [
        "3==3 #test for equality\n",
        "3!=3 #test for inequality\n",
        "3>3 #test for greater than\n",
        "3<3 #test for less than\n",
        "3>=3 #test for greator than or equal to\n",
        "3<=3 #test for less than or equal to"
      ],
      "metadata": {
        "colab": {
          "base_uri": "https://localhost:8080/"
        },
        "id": "Y3vKjV8zeWl5",
        "outputId": "56246db0-5803-4f96-ba91-70fb181c0320"
      },
      "execution_count": null,
      "outputs": [
        {
          "output_type": "execute_result",
          "data": {
            "text/plain": [
              "True"
            ]
          },
          "metadata": {},
          "execution_count": 119
        }
      ]
    },
    {
      "cell_type": "markdown",
      "source": [
        "#Logical Operators"
      ],
      "metadata": {
        "id": "nbTWXVyPf4j4"
      }
    },
    {
      "cell_type": "code",
      "source": [
        "not (2==3) #use of NOT gate\n",
        "(1==1)and (2==1) #use of AND gate\n",
        "(1==2) or (1==1)#use of OR gate"
      ],
      "metadata": {
        "colab": {
          "base_uri": "https://localhost:8080/"
        },
        "id": "5o4YdixDf8DR",
        "outputId": "3f5b604a-1b15-41a5-8174-c504b8007585"
      },
      "execution_count": null,
      "outputs": [
        {
          "output_type": "execute_result",
          "data": {
            "text/plain": [
              "True"
            ]
          },
          "metadata": {},
          "execution_count": 120
        }
      ]
    },
    {
      "cell_type": "markdown",
      "source": [
        "#Python in-built data structure"
      ],
      "metadata": {
        "id": "r1duP54kgju0"
      }
    },
    {
      "cell_type": "markdown",
      "source": [
        "1.list\n",
        "\n",
        "2.tuple\n",
        "\n",
        "3.dictionary\n",
        "\n",
        "4.set"
      ],
      "metadata": {
        "id": "fNaDpNAvhZ3w"
      }
    },
    {
      "cell_type": "markdown",
      "source": [
        "List: Ordered,mutable collection that can store items or different data types.they are defined using square brackets [].\n"
      ],
      "metadata": {
        "id": "ObIDjkb5hiSo"
      }
    },
    {
      "cell_type": "code",
      "source": [
        "my_list =[1,\"hello\",3.14]"
      ],
      "metadata": {
        "id": "Jw_Fl6K-iNpP"
      },
      "execution_count": null,
      "outputs": []
    },
    {
      "cell_type": "markdown",
      "source": [
        "Tuples:Ordered,immutable collections,meaning their contents cannot be changed after creation. they are defined using parentheses ()."
      ],
      "metadata": {
        "id": "Iv19j49HiULe"
      }
    },
    {
      "cell_type": "code",
      "source": [
        "my_tuples=(1,\"hello\",20.1)"
      ],
      "metadata": {
        "id": "BerruZ6mi4Zu"
      },
      "execution_count": null,
      "outputs": []
    },
    {
      "cell_type": "markdown",
      "source": [
        "Dictionary: unordered collection of key-value pairs,where each key must be unique. they are defined using curly braces with key value pairs seperated by colons."
      ],
      "metadata": {
        "id": "Pe9qy8gQjA55"
      }
    },
    {
      "cell_type": "code",
      "source": [
        "my_dict ={\"name\":\"alice\",\"age\":\"30\"}\n",
        "my_intro ={\"name\":\"janith\",\"age\":\"18\",\"grade\":\"A+\"}\n",
        "my_intro"
      ],
      "metadata": {
        "colab": {
          "base_uri": "https://localhost:8080/"
        },
        "id": "l_Ea42oUjf5b",
        "outputId": "e2af3275-a624-4bf0-cf87-e25f9f83d52e"
      },
      "execution_count": null,
      "outputs": [
        {
          "output_type": "execute_result",
          "data": {
            "text/plain": [
              "{'name': 'janith', 'age': '18', 'grade': 'A+'}"
            ]
          },
          "metadata": {},
          "execution_count": 123
        }
      ]
    },
    {
      "cell_type": "markdown",
      "source": [
        "sets:unordered collection of unique elements.they do not allow duplicate values and are defined using curly braces {}."
      ],
      "metadata": {
        "id": "GEj8Xd-AjrsG"
      }
    },
    {
      "cell_type": "code",
      "source": [
        "my_set ={1,2,3,2}\n",
        "my_set"
      ],
      "metadata": {
        "colab": {
          "base_uri": "https://localhost:8080/"
        },
        "id": "goZH1un5kGRP",
        "outputId": "fbaf53c6-72c1-45cd-9fab-ef0763a9823e"
      },
      "execution_count": null,
      "outputs": [
        {
          "output_type": "execute_result",
          "data": {
            "text/plain": [
              "{1, 2, 3}"
            ]
          },
          "metadata": {},
          "execution_count": 124
        }
      ]
    },
    {
      "cell_type": "markdown",
      "source": [
        "Datastructure: different ways of storing ,accesing and manupulating of data in the storage of the system."
      ],
      "metadata": {
        "id": "FwAXdCRdlBQR"
      }
    },
    {
      "cell_type": "markdown",
      "source": [
        "#List Operations"
      ],
      "metadata": {
        "id": "KVe064QFmJup"
      }
    },
    {
      "cell_type": "code",
      "source": [
        "mylist=['a','b','c','d']\n",
        "mylist.index('a')"
      ],
      "metadata": {
        "colab": {
          "base_uri": "https://localhost:8080/"
        },
        "id": "s0WdF1MFmRTu",
        "outputId": "073d4c6b-c475-48b0-821b-418768005bb1"
      },
      "execution_count": null,
      "outputs": [
        {
          "output_type": "execute_result",
          "data": {
            "text/plain": [
              "0"
            ]
          },
          "metadata": {},
          "execution_count": 125
        }
      ]
    },
    {
      "cell_type": "code",
      "source": [
        "mylist=[1,2,2,3,4,5]\n",
        "mylist.count(2)"
      ],
      "metadata": {
        "colab": {
          "base_uri": "https://localhost:8080/"
        },
        "id": "PYaglyoRoBQO",
        "outputId": "071eed07-04d6-4ce4-8535-3a6603ab206e"
      },
      "execution_count": null,
      "outputs": [
        {
          "output_type": "execute_result",
          "data": {
            "text/plain": [
              "2"
            ]
          },
          "metadata": {},
          "execution_count": 126
        }
      ]
    },
    {
      "cell_type": "code",
      "source": [
        "mylist.append(6)\n",
        "mylist"
      ],
      "metadata": {
        "colab": {
          "base_uri": "https://localhost:8080/"
        },
        "id": "5erDH16zoIio",
        "outputId": "7da408a6-d420-4ea0-948a-039427b1e93d"
      },
      "execution_count": null,
      "outputs": [
        {
          "output_type": "execute_result",
          "data": {
            "text/plain": [
              "[1, 2, 2, 3, 4, 5, 6]"
            ]
          },
          "metadata": {},
          "execution_count": 127
        }
      ]
    },
    {
      "cell_type": "code",
      "source": [
        "mylist.remove(6)\n",
        "mylist"
      ],
      "metadata": {
        "colab": {
          "base_uri": "https://localhost:8080/"
        },
        "id": "Phkb7zI6oY2h",
        "outputId": "38788b11-dd36-44fa-8c8d-a4768c5317a8"
      },
      "execution_count": null,
      "outputs": [
        {
          "output_type": "execute_result",
          "data": {
            "text/plain": [
              "[1, 2, 2, 3, 4, 5]"
            ]
          },
          "metadata": {},
          "execution_count": 128
        }
      ]
    },
    {
      "cell_type": "code",
      "source": [
        "del(mylist[0:1])\n",
        "mylist"
      ],
      "metadata": {
        "id": "hBrrFUfzpilf"
      },
      "execution_count": null,
      "outputs": []
    },
    {
      "cell_type": "code",
      "source": [
        "mylist.reverse()\n",
        "mylist"
      ],
      "metadata": {
        "colab": {
          "base_uri": "https://localhost:8080/"
        },
        "id": "AIjAwYhGqCLC",
        "outputId": "9f849545-5d98-4f7f-e13e-ba92cce41022"
      },
      "execution_count": null,
      "outputs": [
        {
          "output_type": "execute_result",
          "data": {
            "text/plain": [
              "[1, 2, 2, 3, 4, 5]"
            ]
          },
          "metadata": {},
          "execution_count": 130
        }
      ]
    },
    {
      "cell_type": "code",
      "source": [
        "mylist.extend(my_list)\n",
        "mylist"
      ],
      "metadata": {
        "colab": {
          "base_uri": "https://localhost:8080/"
        },
        "id": "VpTXJSblrkAd",
        "outputId": "582b10a4-4461-43cc-9609-8a1e68a99df4"
      },
      "execution_count": null,
      "outputs": [
        {
          "output_type": "execute_result",
          "data": {
            "text/plain": [
              "[1, 5, 1, 1, 1, 'hello', 3.14]"
            ]
          },
          "metadata": {},
          "execution_count": 140
        }
      ]
    },
    {
      "cell_type": "code",
      "source": [
        "mylist.pop(-1)#poping items from right side\n",
        "mylist\n",
        "mylist.pop(1)#poping items from left side\n",
        "mylist"
      ],
      "metadata": {
        "colab": {
          "base_uri": "https://localhost:8080/"
        },
        "id": "d3iNHyQ0rzuS",
        "outputId": "eb3cf8d9-a2d4-4dd4-d53c-bb2bb2f73d2e"
      },
      "execution_count": null,
      "outputs": [
        {
          "output_type": "execute_result",
          "data": {
            "text/plain": [
              "[1, 5, 1, 1]"
            ]
          },
          "metadata": {},
          "execution_count": 139
        }
      ]
    },
    {
      "cell_type": "code",
      "source": [
        "mylist.insert(0,'hi')\n",
        "mylist"
      ],
      "metadata": {
        "colab": {
          "base_uri": "https://localhost:8080/"
        },
        "id": "vhb55iOwsmdH",
        "outputId": "0676dddc-720d-4c90-cb5f-903ce6fac236"
      },
      "execution_count": null,
      "outputs": [
        {
          "output_type": "execute_result",
          "data": {
            "text/plain": [
              "['hi', 1, 5, 1, 1, 1, 'hello', 3.14]"
            ]
          },
          "metadata": {},
          "execution_count": 141
        }
      ]
    },
    {
      "cell_type": "code",
      "source": [
        "mylist.sort()\n",
        "mylist"
      ],
      "metadata": {
        "colab": {
          "base_uri": "https://localhost:8080/",
          "height": 164
        },
        "id": "hLBGGT8asuKR",
        "outputId": "0670c61e-698b-4f47-c441-784a9887468e"
      },
      "execution_count": null,
      "outputs": [
        {
          "output_type": "error",
          "ename": "TypeError",
          "evalue": "'<' not supported between instances of 'int' and 'str'",
          "traceback": [
            "\u001b[0;31m---------------------------------------------------------------------------\u001b[0m",
            "\u001b[0;31mTypeError\u001b[0m                                 Traceback (most recent call last)",
            "\u001b[0;32m/tmp/ipython-input-2792049476.py\u001b[0m in \u001b[0;36m<cell line: 0>\u001b[0;34m()\u001b[0m\n\u001b[0;32m----> 1\u001b[0;31m \u001b[0mmylist\u001b[0m\u001b[0;34m.\u001b[0m\u001b[0msort\u001b[0m\u001b[0;34m(\u001b[0m\u001b[0;34m)\u001b[0m\u001b[0;34m\u001b[0m\u001b[0;34m\u001b[0m\u001b[0m\n\u001b[0m\u001b[1;32m      2\u001b[0m \u001b[0mmylist\u001b[0m\u001b[0;34m\u001b[0m\u001b[0;34m\u001b[0m\u001b[0m\n",
            "\u001b[0;31mTypeError\u001b[0m: '<' not supported between instances of 'int' and 'str'"
          ]
        }
      ]
    },
    {
      "cell_type": "markdown",
      "source": [
        "#string\n"
      ],
      "metadata": {
        "id": "Nlx3Fv6Ws-yv"
      }
    },
    {
      "cell_type": "code",
      "source": [
        "mystring=\"welcome to python\"\n",
        "mystring"
      ],
      "metadata": {
        "colab": {
          "base_uri": "https://localhost:8080/",
          "height": 36
        },
        "id": "6rSXbROItxsp",
        "outputId": "7dfe383c-014f-44c5-b600-35b72be13387"
      },
      "execution_count": null,
      "outputs": [
        {
          "output_type": "execute_result",
          "data": {
            "text/plain": [
              "'welcome to python'"
            ],
            "application/vnd.google.colaboratory.intrinsic+json": {
              "type": "string"
            }
          },
          "metadata": {},
          "execution_count": 143
        }
      ]
    },
    {
      "cell_type": "code",
      "source": [
        "mystring[3]"
      ],
      "metadata": {
        "colab": {
          "base_uri": "https://localhost:8080/",
          "height": 36
        },
        "id": "io59yvxJt84_",
        "outputId": "5737d020-1633-4b7b-9288-cd4b584b0915"
      },
      "execution_count": null,
      "outputs": [
        {
          "output_type": "execute_result",
          "data": {
            "text/plain": [
              "'c'"
            ],
            "application/vnd.google.colaboratory.intrinsic+json": {
              "type": "string"
            }
          },
          "metadata": {},
          "execution_count": 144
        }
      ]
    },
    {
      "cell_type": "code",
      "source": [
        "mystring[4:9]"
      ],
      "metadata": {
        "colab": {
          "base_uri": "https://localhost:8080/",
          "height": 36
        },
        "id": "wNWpG06kuIN0",
        "outputId": "35bc7554-132f-4215-8c97-5896e0a04274"
      },
      "execution_count": null,
      "outputs": [
        {
          "output_type": "execute_result",
          "data": {
            "text/plain": [
              "'ome t'"
            ],
            "application/vnd.google.colaboratory.intrinsic+json": {
              "type": "string"
            }
          },
          "metadata": {},
          "execution_count": 145
        }
      ]
    },
    {
      "cell_type": "code",
      "source": [
        "mystring.upper()"
      ],
      "metadata": {
        "colab": {
          "base_uri": "https://localhost:8080/",
          "height": 36
        },
        "id": "79-zU-fcuXzM",
        "outputId": "77cfb20d-6e10-471e-d0ea-c4538e56ccad"
      },
      "execution_count": null,
      "outputs": [
        {
          "output_type": "execute_result",
          "data": {
            "text/plain": [
              "'WELCOME TO PYTHON'"
            ],
            "application/vnd.google.colaboratory.intrinsic+json": {
              "type": "string"
            }
          },
          "metadata": {},
          "execution_count": 146
        }
      ]
    },
    {
      "cell_type": "code",
      "source": [
        "mystring.count('o')"
      ],
      "metadata": {
        "colab": {
          "base_uri": "https://localhost:8080/"
        },
        "id": "jTZ3RHnQugvA",
        "outputId": "c145e1f8-eb0f-4594-f6ae-1d4bebe2862b"
      },
      "execution_count": null,
      "outputs": [
        {
          "output_type": "execute_result",
          "data": {
            "text/plain": [
              "3"
            ]
          },
          "metadata": {},
          "execution_count": 147
        }
      ]
    },
    {
      "cell_type": "code",
      "source": [
        "mystring.replace('o','i')"
      ],
      "metadata": {
        "colab": {
          "base_uri": "https://localhost:8080/",
          "height": 36
        },
        "id": "B7AlHrH5vLWW",
        "outputId": "fc8394ea-e1b9-4416-bc41-597a530ec82a"
      },
      "execution_count": null,
      "outputs": [
        {
          "output_type": "execute_result",
          "data": {
            "text/plain": [
              "'welcime ti pythin'"
            ],
            "application/vnd.google.colaboratory.intrinsic+json": {
              "type": "string"
            }
          },
          "metadata": {},
          "execution_count": 149
        }
      ]
    },
    {
      "cell_type": "markdown",
      "source": [
        "#List processing in python"
      ],
      "metadata": {
        "id": "-5fr6VgddDq7"
      }
    },
    {
      "cell_type": "markdown",
      "source": [
        "return a list where each element is a running sum.\n",
        "\n",
        "**Example:**\n",
        "\n",
        "sample input:-[10,20,5,1]\n",
        "\n",
        "output:-[10,30,35,36]"
      ],
      "metadata": {
        "id": "9Nq3uqvydKGC"
      }
    },
    {
      "cell_type": "code",
      "source": [
        "def rs(nums):\n",
        "  result=[]\n",
        "  total=0 #initialise total to zero\n",
        "  for n in nums: #start the loop for running sum\n",
        "    total+=n #add the value to total\n",
        "    result.append(total)\n",
        "  return(total)\n",
        "print(rs([10,20,5,1]))"
      ],
      "metadata": {
        "colab": {
          "base_uri": "https://localhost:8080/"
        },
        "id": "ipWo_lVKeAWL",
        "outputId": "fbcb6780-8610-4908-bdd4-92c2741d0126"
      },
      "execution_count": null,
      "outputs": [
        {
          "output_type": "stream",
          "name": "stdout",
          "text": [
            "36\n"
          ]
        }
      ]
    },
    {
      "cell_type": "code",
      "source": [
        "#now only print the total of the given number.\n",
        "def rs(nums):\n",
        "  total=0 #initialise total to zero\n",
        "  for n in nums: #start the loop for running sum\n",
        "    total+=n #add the value to total\n",
        "  return(total)\n",
        "print(rs([10,20,5,1]))"
      ],
      "metadata": {
        "id": "cdma73-piGZ6"
      },
      "execution_count": null,
      "outputs": []
    },
    {
      "cell_type": "markdown",
      "source": [
        "#Count the no.of even numbers in the list"
      ],
      "metadata": {
        "id": "SKtYfkMEiSwz"
      }
    },
    {
      "cell_type": "code",
      "source": [
        "def even(nums):\n",
        "  count=0\n",
        "  for n in nums:\n",
        "    if n%2==0:\n",
        "      count+=1\n",
        "  return count\n",
        "print(even([10,1,3,4,6]))"
      ],
      "metadata": {
        "colab": {
          "base_uri": "https://localhost:8080/"
        },
        "id": "AXko9oIriYsU",
        "outputId": "efb8dd75-8d7e-4920-b0fb-c2a78f4c0c82"
      },
      "execution_count": null,
      "outputs": [
        {
          "output_type": "stream",
          "name": "stdout",
          "text": [
            "3\n"
          ]
        }
      ]
    },
    {
      "cell_type": "markdown",
      "source": [
        "#Reverse List"
      ],
      "metadata": {
        "id": "lA8JyouvkYqS"
      }
    },
    {
      "cell_type": "code",
      "source": [
        "def rlist(nums):\n",
        "  return nums[::-1]\n",
        "print(rlist([1,2,3,4]))\n",
        "list=[1,2,3,4]\n",
        "print(list[::-2])\n",
        "print(list[::-3])"
      ],
      "metadata": {
        "colab": {
          "base_uri": "https://localhost:8080/"
        },
        "id": "8PDTceH_kbvC",
        "outputId": "4fd51fb8-0307-4d56-f90e-df980cbcad6f"
      },
      "execution_count": null,
      "outputs": [
        {
          "output_type": "stream",
          "name": "stdout",
          "text": [
            "[4, 3, 2, 1]\n",
            "[4, 2]\n",
            "[4, 1]\n"
          ]
        }
      ]
    },
    {
      "cell_type": "markdown",
      "source": [
        "#Finding max number in a list"
      ],
      "metadata": {
        "id": "D1P51RdYnqa1"
      }
    },
    {
      "cell_type": "code",
      "source": [
        "def max(nums):\n",
        "  m=nums[0]\n",
        "  for n in nums:\n",
        "    if n>=m:\n",
        "      m=n\n",
        "  return m\n",
        "print(max([10,10,3,4]))"
      ],
      "metadata": {
        "colab": {
          "base_uri": "https://localhost:8080/"
        },
        "id": "eU3seMf8nutQ",
        "outputId": "91e387af-71f4-41aa-b9b5-3e53938ed5c3"
      },
      "execution_count": null,
      "outputs": [
        {
          "output_type": "stream",
          "name": "stdout",
          "text": [
            "10\n"
          ]
        }
      ]
    },
    {
      "cell_type": "markdown",
      "source": [
        "#Finding min number in a list"
      ],
      "metadata": {
        "id": "SNCX6aJjolHP"
      }
    },
    {
      "cell_type": "code",
      "source": [
        "def min(nums):\n",
        "  m=nums[0]\n",
        "  for n in nums:\n",
        "    if n<=m:\n",
        "      m=n\n",
        "  return m\n",
        "print(min([10,10,3,4]))"
      ],
      "metadata": {
        "colab": {
          "base_uri": "https://localhost:8080/"
        },
        "id": "Ob0PVf5sop4n",
        "outputId": "b0d656f2-8283-4bb0-ab9a-9f692f8df79b"
      },
      "execution_count": null,
      "outputs": [
        {
          "output_type": "stream",
          "name": "stdout",
          "text": [
            "3\n"
          ]
        }
      ]
    },
    {
      "cell_type": "markdown",
      "source": [
        "#Give 2D list where each row deposits in customers account."
      ],
      "metadata": {
        "id": "vD-R7J3Ctqgm"
      }
    },
    {
      "cell_type": "code",
      "source": [],
      "metadata": {
        "id": "h60-y-o9t2BE"
      },
      "execution_count": null,
      "outputs": []
    },
    {
      "cell_type": "markdown",
      "source": [
        "#**Experiment no.4**\n",
        "\n",
        "---\n",
        "\n",
        "\n",
        "##Objective:\n",
        "To design a menu driver application for grocery store checkout system using list data structure in python."
      ],
      "metadata": {
        "id": "tCgQ_N3Uf6jj"
      }
    },
    {
      "cell_type": "code",
      "source": [],
      "metadata": {
        "id": "AKPw8PAvgXba"
      },
      "execution_count": null,
      "outputs": []
    }
  ]
}